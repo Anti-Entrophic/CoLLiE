{
 "cells": [
  {
   "cell_type": "markdown",
   "id": "1c363604",
   "metadata": {
    "pycharm": {
     "name": "#%% md\n"
    }
   },
   "source": [
    "# 5. CoLLiE 的 高效微调\n",
    "\n",
    "> 5.1 &ensp; CoLLiE 实现 LOMO 算法\n",
    "> \n",
    "> 5.2 &ensp; CoLLiE 结合 PEFT 算法"
   ]
  },
  {
   "cell_type": "markdown",
   "id": "74d1879d",
   "metadata": {
    "pycharm": {
     "name": "#%% md\n"
    }
   },
   "source": [
    "## 5.1 &ensp; CoLLiE 实现 LOMO 算法\n",
    "\n",
    "<!-- &ensp; &ensp; 流水线不支持 LOMO，因为 1F1B -->"
   ]
  },
  {
   "cell_type": "markdown",
   "id": "84bcf331",
   "metadata": {
    "pycharm": {
     "name": "#%% md\n"
    }
   },
   "source": [
    "## 5.2 &ensp; CoLLiE 结合 PEFT 算法"
   ]
  },
  {
   "cell_type": "markdown",
   "id": "15e07f18",
   "metadata": {},
   "source": []
  }
 ],
 "metadata": {
  "kernelspec": {
   "display_name": "Python 3 (ipykernel)",
   "language": "python",
   "name": "python3"
  },
  "language_info": {
   "codemirror_mode": {
    "name": "ipython",
    "version": 3
   },
   "file_extension": ".py",
   "mimetype": "text/x-python",
   "name": "python",
   "nbconvert_exporter": "python",
   "pygments_lexer": "ipython3",
   "version": "3.9.16"
  }
 },
 "nbformat": 4,
 "nbformat_minor": 5
}
