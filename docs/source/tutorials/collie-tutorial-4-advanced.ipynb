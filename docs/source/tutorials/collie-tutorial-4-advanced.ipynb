{
 "cells": [
  {
   "cell_type": "markdown",
   "id": "1c363604",
   "metadata": {
    "pycharm": {
     "name": "#%% md\n"
    }
   },
   "source": [
    "# 4. CoLLiE 的 可选模块\n",
    "\n",
    "> 4.1 &ensp; CoLLiE 的 Monitor 模块\n",
    "> \n",
    "> 4.2 &ensp; CoLLiE 的 Callback 模块\n",
    "> \n",
    "> 4.3 &ensp; CoLLiE 的 Server 模块"
   ]
  },
  {
   "cell_type": "markdown",
   "id": "5664d208",
   "metadata": {},
   "source": [
    "## 4.1 &ensp; CoLLiE 的 Monitor 模块\n",
    "\n",
    "&ensp; &ensp; monitor模块列表\n",
    "\n",
    "| 名称 | 描述 |\n",
    "|:----|:----|\n",
    "| BaseMonitor | 用于记录模型训练过程中的统计信息 |\n",
    "| StepTimeMonitor | 用来记录每个step的时间 |\n",
    "| NetworkIOMonitor | 用来记录每个step的网络带宽情况 |\n",
    "| DiskIOMonitor | 用来记录每个step的硬盘读写情况 |\n",
    "| TGSMonitor | 用来记录每秒每张 GPU 可训练的 token 数 (token / s / GPU) |\n",
    "| CPUMemoryMonitor | 用来记录每个step的CPU内存占用 |\n",
    "| MemoryMonitor | 用来记录每个step的内存占用 |\n",
    "| LossMonitor | 用来记录每个step的loss |\n",
    "| EvalMonitor | 用来记录每个step的eval结果，仅支持 int 和 float 类型的结果 |\n",
    "| LRMonitor | 用来记录每个step的learning rate |"
   ]
  },
  {
   "cell_type": "markdown",
   "id": "61e341be",
   "metadata": {},
   "source": [
    "&ensp; &ensp; 在`finetune_moss_for_training.py`脚本中，示例代码\n",
    "\n",
    "``` python\n",
    "from collie.utils.monitor import StepTimeMonitor, TGSMonitor, MemoryMonitor, LossMonitor, EvalMonitor\n",
    "\n",
    "monitors = [\n",
    "    StepTimeMonitor(config),\n",
    "    TGSMonitor(config),\n",
    "    MemoryMonitor(config),\n",
    "    LossMonitor(config),\n",
    "    EvalMonitor(config)\n",
    "]\n",
    "``` "
   ]
  },
  {
   "cell_type": "markdown",
   "id": "51881119",
   "metadata": {
    "pycharm": {
     "name": "#%% md\n"
    }
   },
   "source": [
    "## 4.2 &ensp; CoLLiE 的 Callback 模块"
   ]
  },
  {
   "cell_type": "markdown",
   "id": "6f981b2b",
   "metadata": {
    "pycharm": {
     "name": "#%% md\n"
    }
   },
   "source": [
    "## 4.3 &ensp; CoLLiE 的 Server 模块"
   ]
  },
  {
   "cell_type": "code",
   "execution_count": null,
   "id": "66d36c9e",
   "metadata": {},
   "outputs": [],
   "source": []
  }
 ],
 "metadata": {
  "kernelspec": {
   "display_name": "Python 3 (ipykernel)",
   "language": "python",
   "name": "python3"
  },
  "language_info": {
   "codemirror_mode": {
    "name": "ipython",
    "version": 3
   },
   "file_extension": ".py",
   "mimetype": "text/x-python",
   "name": "python",
   "nbconvert_exporter": "python",
   "pygments_lexer": "ipython3",
   "version": "3.9.16"
  }
 },
 "nbformat": 4,
 "nbformat_minor": 5
}
