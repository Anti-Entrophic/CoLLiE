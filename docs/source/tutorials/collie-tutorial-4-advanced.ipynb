{
 "cells": [
  {
   "cell_type": "markdown",
   "id": "1c363604",
   "metadata": {
    "pycharm": {
     "name": "#%% md\n"
    }
   },
   "source": [
    "# 4. 可选模块\n",
    "\n",
    "> 4.1 &ensp; Monitor\n",
    ">\n",
    "> 4.2 &ensp; Callback\n",
    ">\n",
    "> 4.3 &ensp; Server"
   ]
  },
  {
   "cell_type": "markdown",
   "id": "5664d208",
   "metadata": {},
   "source": [
    "## 4.1 &ensp; Monitor\n",
    "\n",
    "Monitor 用来记录训练或者评测过程中的结果。CoLLiE 目前支持使用 `tensorboard` 或者 `wandb` 记录，也支持将结果直接存到 `csv` 文件中。\n",
    "\n",
    "| 名称 | 描述 |\n",
    "|:----|:----|\n",
    "| BaseMonitor | Monitor 的基类，其它 Monitor 继承此类 |\n",
    "| LossMonitor | 记录每个 step 的 loss |\n",
    "| LRMonitor | 记录每个 step 的 learning rate |\n",
    "| EvalMonitor | 传给 Evaluator，记录每次评测结果 |\n",
    "| StepTimeMonitor | 记录每个 step 的时间 |\n",
    "| TGSMonitor | 记录每秒每张 GPU 可训练的 token 数 (token / GPU / s) |\n",
    "| MemoryMonitor | 记录每个 step 的内存占用 |\n",
    "| NetworkIOMonitor | 记录每个 step 的网络带宽情况 |\n",
    "| DiskIOMonitor | 记录每个 step 的硬盘读写情况 |\n",
    "| CPUMemoryMonitor | 记录每个 step 的 CPU 内存占用 |\n",
    "\n",
    "\n",
    "要使用 Monitor，需要指明这次实验的 `tag`。记录到 `wandb`、`tensorboard` 和 `csv` 中的方法如下：\n",
    "\n",
    "```python!\n",
    "config.ds_config = {\n",
    "    \"monitor_config\": {\n",
    "        \"enabled\": True,\n",
    "        \"tag\": f\"your_tag\",  # job name\n",
    "        \"wandb\": {\n",
    "            \"enabled\": True,\n",
    "            \"team\": \"collie_exp\",\n",
    "            \"project\": \"llama_alpaca\",\n",
    "            \"group\": f\"llama-7b\",\n",
    "        },\n",
    "        \"tensorboard\": {\n",
    "            \"enabled\": True,\n",
    "            \"output_path\": \"./ds_tb_logs/\",\n",
    "        },\n",
    "        \"csv_monitor\": {\n",
    "            \"enabled\": True,\n",
    "            \"output_path\": \"./ds_csv_logs/\",\n",
    "        }\n",
    "    },\n",
    "}\n",
    "```\n",
    "\n",
    "然后，将需要记录的指标对应的 Monitor 类传给 Evaluator 或者 Trainer。\n",
    "\n",
    "``` python!\n",
    "from collie.utils.monitor import StepTimeMonitor, MemoryMonitor, LossMonitor, LRMonitor, EvalMonitor\n",
    "\n",
    "monitors = [\n",
    "    LossMonitor(config),\n",
    "    LRMonitor(config),\n",
    "    StepTimeMonitor(config),\n",
    "    MemoryMonitor(config),\n",
    "]\n",
    "\n",
    "evaluator = EvaluatorForPer(\n",
    "    monitors=[EvalMonitor(config)],\n",
    "    **other_kwargs  # 这里省略了其他传入参数\n",
    ")\n",
    "\n",
    "trainer = Trainer(\n",
    "    evaluators=[evaluator],\n",
    "    monitors=monitors,\n",
    "    **other_kwargs  # 这里省略了其他传入参数\n",
    ")\n",
    "```\n",
    "\n",
    "`wandb` 上记录的结果如下图所示，左边的 `Name` 即为设置的 `tag`，右边的图表是记录下来的指标。\n",
    "\n",
    "<img src=\"./images/monitor.png\" width=\"1200\"/>"
   ]
  },
  {
   "cell_type": "markdown",
   "id": "61e341be",
   "metadata": {},
   "source": [
    "&ensp; &ensp; 在`finetune_moss_for_training.py`脚本中，示例代码\n",
    "\n",
    "``` python\n",
    "from collie.utils.monitor import StepTimeMonitor, TGSMonitor, MemoryMonitor, LossMonitor, EvalMonitor\n",
    "\n",
    "monitors = [\n",
    "    StepTimeMonitor(config),\n",
    "    TGSMonitor(config),\n",
    "    MemoryMonitor(config),\n",
    "    LossMonitor(config),\n",
    "    EvalMonitor(config)\n",
    "]\n",
    "``` "
   ]
  },
  {
   "cell_type": "markdown",
   "id": "51881119",
   "metadata": {
    "pycharm": {
     "name": "#%% md\n"
    }
   },
   "source": [
    "## 4.2 &ensp; Callback\n",
    "\n",
    "Callback 类在训练过程中的[各个回调点](https://openlmlab-collie.readthedocs.io/zh-cn/latest/api/generated/collie.callbacks.Callback.html#collie.callbacks.Callback)被调用，方便用户自定义训练循环。回调类都是基于同一个基类 `Callback` 实现的，用户可以继承此基类继承，并重写不同的方法来选择回调时间及操作。\n",
    "\n",
    "| 名称 | 功能 |\n",
    "|:----|:----|\n",
    "| Callback  | Callback 的基类，其它 Callback 继承此类 |\n",
    "| CheckpointCallback | 根据用户设置，保存模型权重或者训练 checkpoint |\n",
    "| LoadBestModelCallback | 保存 monitor 值最佳的模型，并在训练结束的时候重新加载模型 |\n",
    "\n",
    "```python!\n",
    "from collie.callbacks import CheckpointCallback, LoadBestModelCallback\n",
    "\n",
    "callbacks = [\n",
    "    CheckpointCallback(\n",
    "        \"./models\",\n",
    "        every_n_epochs=1,  # 每一个 epoch 保存一次\n",
    "        model_only=True,  # 仅保存模型权重，不保存optimzer、训练步数等断点重训信息\n",
    "    ),\n",
    "    LoadBestModelCallback(\n",
    "        \"./best_model\",\n",
    "        monitor=\"acc_metric#acc\"  # 根据这个 metric 保存并加载最优的模型\n",
    "    )\n",
    "]\n",
    "trainer = Trainer(\n",
    "    callbacks=callbacks,\n",
    "    **other_kwargs  # 这里省略了其他传入参数\n",
    ")\n",
    "```\n",
    "\n",
    "Callback 的更多用法和详细配置参见 [callbacks 文档](https://openlmlab-collie.readthedocs.io/zh-cn/latest/api/callbacks.html)。"
   ]
  },
  {
   "cell_type": "markdown",
   "id": "6f981b2b",
   "metadata": {
    "pycharm": {
     "name": "#%% md\n"
    }
   },
   "source": [
    "## 4.2 &ensp; Server\n",
    "\n",
    "Server 类用于模型的部署，通过 Gradio 或者 Dash 提供基于网页的交互式服务。\n",
    "\n",
    "```python!\n",
    "from collie.utils import GradioProvider\n",
    "from transformers import GenerationConfig\n",
    "\n",
    "server = Server(\n",
    "    model=model,\n",
    "    data_provider=GradioProvider(\n",
    "        tokenizer=tokenizer,\n",
    "        stream=True,  # 流式生成\n",
    "        port=8080,\n",
    "        generation_config=GenerationConfig(max_new_tokens=250)  # 生成的设置\n",
    "    )\n",
    ")\n",
    "server.run()\n",
    "```\n",
    "\n",
    "也可以将 server 传给 trainer，在训练过程中实时试验训练到当前步数模型的能力。\n",
    "\n",
    "其原理是通过 data_provider 异步地将数据给模型来生成：等到当前 step 训练结束后，模型就会根据用户输入生成回复并且展示到网页上。生成结束后模型会自动继续训练。\n",
    "\n",
    "```python!\n",
    "trainer = Trainer(\n",
    "    server=server,\n",
    "    **other_kwargs  # 这里省略了其他传入参数\n",
    ")\n",
    "```\n",
    "\n",
    "基于 Gradio 的页面示例如下所示：\n",
    "\n",
    "<img src=\"./images/server.png\" width=\"1200\"/>"
   ]
  }
 ],
 "metadata": {
  "kernelspec": {
   "display_name": "Python 3 (ipykernel)",
   "language": "python",
   "name": "python3"
  },
  "language_info": {
   "codemirror_mode": {
    "name": "ipython",
    "version": 3
   },
   "file_extension": ".py",
   "mimetype": "text/x-python",
   "name": "python",
   "nbconvert_exporter": "python",
   "pygments_lexer": "ipython3",
   "version": "3.9.16"
  }
 },
 "nbformat": 4,
 "nbformat_minor": 5
}
